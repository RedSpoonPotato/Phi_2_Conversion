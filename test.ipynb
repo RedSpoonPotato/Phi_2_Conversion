{
 "cells": [
  {
   "cell_type": "code",
   "execution_count": 71,
   "metadata": {},
   "outputs": [],
   "source": [
    "import tensorflow as tf\n",
    "import torch\n",
    "from torch import nn\n",
    "import numpy as np"
   ]
  },
  {
   "cell_type": "code",
   "execution_count": 12,
   "metadata": {},
   "outputs": [
    {
     "name": "stdout",
     "output_type": "stream",
     "text": [
      "tf.Tensor(\n",
      "[[0.64257812500000000000 0.24609375000000000000 0.81933593750000000000\n",
      "  0.70703125000000000000]\n",
      " [0.41406250000000000000 0.08886718750000000000 0.96582031250000000000\n",
      "  0.06054687500000000000]\n",
      " [0.32812500000000000000 0.42480468750000000000 0.78125000000000000000\n",
      "  0.43359375000000000000]], shape=(3, 4), dtype=float16)\n",
      "tensor([[0.64257812500000000000, 0.24609375000000000000, 0.81933593750000000000,\n",
      "         0.70703125000000000000],\n",
      "        [0.41406250000000000000, 0.08886718750000000000, 0.96582031250000000000,\n",
      "         0.06054687500000000000],\n",
      "        [0.32812500000000000000, 0.42480468750000000000, 0.78125000000000000000,\n",
      "         0.43359375000000000000]], dtype=torch.float16)\n",
      "tf.Tensor(\n",
      "[[ True  True  True  True]\n",
      " [ True  True  True  True]\n",
      " [ True  True  True  True]], shape=(3, 4), dtype=bool)\n"
     ]
    }
   ],
   "source": [
    "np.set_printoptions(formatter={'float': lambda x: \"{0:0.20f}\".format(x)})\n",
    "torch.set_printoptions(precision=20)\n",
    "# x = tf.constant([2.5], dtype=tf.bfloat16)\n",
    "x = tf.random.uniform([3,4], dtype=tf.float16)\n",
    "x1 = torch.tensor(tf.cast(x, tf.float32).numpy())\n",
    "x1 = x1.to(dtype=torch.float16)\n",
    "print(x)\n",
    "print(x1)\n",
    "print(x == x1)"
   ]
  },
  {
   "cell_type": "code",
   "execution_count": 4,
   "metadata": {},
   "outputs": [
    {
     "name": "stdout",
     "output_type": "stream",
     "text": [
      "[[0.359375 0.1484375 0.9296875 0.9765625]\n",
      " [0.609375 0.984375 0.5546875 0.0859375]\n",
      " [0.2734375 0.59375 0.84375 0.859375]]\n"
     ]
    }
   ],
   "source": [
    "tf.print(x)"
   ]
  },
  {
   "cell_type": "code",
   "execution_count": 75,
   "metadata": {},
   "outputs": [],
   "source": [
    "class LayerNorm(tf.Module):\n",
    "    def __init__(self, weights, biases, eps=1e-12, name=None):\n",
    "        super().__init__(name)\n",
    "        # w's and b's are both 1d (768)\n",
    "        self.weights = weights\n",
    "        self.biases = biases\n",
    "        self.eps = eps\n",
    "    # @tf.function\n",
    "    def __call__(self, x):\n",
    "        mean = tf.reduce_mean(x, axis=-1, keepdims=True)\n",
    "        variance = tf.reduce_mean(tf.square(x - mean), axis=-1, keepdims=True)\n",
    "        x = (x - mean) / tf.sqrt(variance + self.eps)\n",
    "        x = self.weights * x + self.biases\n",
    "        return x\n",
    "\n",
    "\n",
    "# class PT_LayerNorm(torch.nn.Module):\n",
    "#     def __init__(self, weights, biases, eps):\n",
    "#         super().__init__()\n",
    "#         self.weights = weights\n",
    "#         self.biases = biases\n",
    "#         self.eps = eps\n",
    "#     def forward(self, input):\n",
    "#         mean = torch.mean(x,)\n",
    "\n",
    "class PT_LayerNorm(nn.Module):\n",
    "    def __init__(self, weights, biases, eps):\n",
    "        super(PT_LayerNorm, self).__init__()\n",
    "        self.weights = nn.Parameter(weights)\n",
    "        self.biases = nn.Parameter(biases)\n",
    "        self.eps = eps\n",
    "\n",
    "    def forward(self, x):\n",
    "        mean = x.mean(dim=-1, keepdim=True)\n",
    "        variance = (x - mean).pow(2).mean(dim=-1, keepdim=True)\n",
    "        x = (x - mean) / torch.sqrt(variance + self.eps)\n",
    "        x = self.weights * x + self.biases\n",
    "        return x\n",
    "\n",
    "    \n",
    "class Dense_v2(tf.Module):\n",
    "    def __init__(self, in_features:int, out_features:int, weights:tf.Tensor, bias:tf.Tensor=None, name=None):\n",
    "        super().__init__(name=name)\n",
    "        self.in_features = in_features\n",
    "        self.out_features = out_features\n",
    "        self.w = tf.reshape(weights, (in_features, out_features))\n",
    "        if bias is None:\n",
    "            self.b = tf.zeros([1, out_features])\n",
    "        else:\n",
    "            self.b = tf.reshape(bias, (1, out_features))\n",
    "    @tf.function\n",
    "    def __call__(self, x:tf.Tensor):\n",
    "        out = tf.matmul(x, self.w)\n",
    "        return out + self.b"
   ]
  },
  {
   "cell_type": "code",
   "execution_count": 2,
   "metadata": {},
   "outputs": [],
   "source": [
    "np.set_printoptions(formatter={'float': lambda x: \"{0:0.20f}\".format(x)})\n",
    "torch.set_printoptions(precision=20)"
   ]
  },
  {
   "cell_type": "code",
   "execution_count": 126,
   "metadata": {},
   "outputs": [
    {
     "name": "stdout",
     "output_type": "stream",
     "text": [
      "[0.13732910156250000000 0.42211914062500000000 2.33789062500000000000\n",
      " -1.24511718750000000000]\n",
      "[0.13745117187500000000 0.42211914062500000000 2.33789062500000000000\n",
      " -1.24609375000000000000]\n",
      "[0.13745117187500000000 0.42211914062500000000 2.33789062500000000000\n",
      " -1.24609375000000000000]\n"
     ]
    }
   ],
   "source": [
    "# testing layer norm\n",
    "\n",
    "torch.set_default_device(\"cuda\")\n",
    "torch.autocast(\"cpu\", enabled=False)\n",
    "torch.autocast(\"cuda\", enabled=False)\n",
    "\n",
    "pt_dtype = torch.float16 # test with float maybe\n",
    "eps = 1e-5\n",
    "pt_val = {\n",
    "    'weight':   torch.randn([4], dtype=pt_dtype),\n",
    "    'bias':     torch.randn([4], dtype=pt_dtype),\n",
    "    'input':    torch.randn([4], dtype=pt_dtype)\n",
    "}\n",
    "\n",
    "tf_val = {}\n",
    "for key in pt_val:\n",
    "    tf_val[key] = tf.constant(pt_val[key].cpu().numpy())\n",
    "    x = tf_val[key] == pt_val[key].cpu()\n",
    "    assert(tf.reduce_all(x).numpy() == True)\n",
    "\n",
    "pt_ln = torch.nn.LayerNorm(4, eps=eps)\n",
    "pt_ln.weight = torch.nn.Parameter(pt_val['weight'])\n",
    "pt_ln.bias = torch.nn.Parameter(pt_val['bias'])\n",
    "\n",
    "my_ln = LayerNorm(tf_val['weight'], tf_val['bias'], eps=eps)\n",
    "my_pt_ln = PT_LayerNorm(pt_val['weight'], pt_val['bias'], eps=eps)\n",
    "\n",
    "print(pt_ln(pt_val['input']).cpu().detach().numpy())\n",
    "print(my_pt_ln(pt_val['input']).cpu().detach().numpy())\n",
    "print(my_ln(tf_val['input']).numpy())"
   ]
  },
  {
   "cell_type": "code",
   "execution_count": 160,
   "metadata": {},
   "outputs": [
    {
     "name": "stdout",
     "output_type": "stream",
     "text": [
      "tensor([-0.66259765625000000000,  1.55371093750000000000,\n",
      "        -1.50390625000000000000,  0.98095703125000000000], device='cuda:0',\n",
      "       dtype=torch.float16, grad_fn=<NativeLayerNormBackward0>)\n",
      "tf.Tensor(\n",
      "[-0.66406250000000000000 1.55468750000000000000 -1.50390625000000000000\n",
      " 0.98046875000000000000], shape=(4,), dtype=float16)\n"
     ]
    }
   ],
   "source": [
    "torch_layer = torch.nn.LayerNorm(4, eps=eps) # if the \n",
    "torch_layer.weight = torch.nn.Parameter(og_weights)\n",
    "torch_layer.bias = torch.nn.Parameter(og_bias)\n",
    "\n",
    "my_layer = LayerNorm(tf_weights, tf_bias, eps=eps)\n",
    "\n",
    "# tf.keras.backend.set_floatx('float64')\n",
    "# gamma = tf.constant_initializer(tf_weights.numpy())\n",
    "# beta = tf.constant_initializer(tf_bias.numpy())\n",
    "# keras_layer = tf.keras.layers.LayerNormalization(axis=-1, epsilon=eps, gamma_initializer=gamma, beta_initializer=beta)\n",
    "# print(keras_layer(tf_input))\n",
    "\n",
    "\n",
    "print(torch_layer(og_input))\n",
    "# print(torch.nn.functional.layer_norm(og_input, [4], og_weights, og_bias, eps))\n",
    "print(my_layer(tf_input))\n",
    "\n",
    "\n",
    "\n",
    "# dont forget to run as keras\n",
    "# the torch LN might be internally casting as float32"
   ]
  },
  {
   "cell_type": "code",
   "execution_count": 29,
   "metadata": {},
   "outputs": [
    {
     "name": "stdout",
     "output_type": "stream",
     "text": [
      "tensor([[-1.51855468750000000000, -2.39648437500000000000,\n",
      "         -0.05068969726562500000,  0.94482421875000000000]], device='cuda:0',\n",
      "       dtype=torch.float16, grad_fn=<AddmmBackward0>)\n",
      "tf.Tensor(\n",
      "[[-1.51757812500000000000 -2.39648437500000000000 -0.05102539062500000000\n",
      "  0.94482421875000000000]], shape=(1, 4), dtype=float16)\n",
      "\n",
      " tf.Tensor(False, shape=(), dtype=bool)\n"
     ]
    }
   ],
   "source": [
    "# testing linear layers\n",
    "# float16 is off, but float32 and float64 is good\n",
    "torch.set_default_device(\"cuda\")\n",
    "pt_dtype=torch.float16\n",
    "\n",
    "pt_val = {\n",
    "    'weight':   torch.randn([4,4], dtype=pt_dtype),\n",
    "    'bias':     torch.randn([4], dtype=pt_dtype),\n",
    "    'input':    torch.randn([1, 4], dtype=pt_dtype)\n",
    "}\n",
    "\n",
    "tf_val = {}\n",
    "for key in pt_val:\n",
    "    tf_val[key] = tf.constant(pt_val[key].cpu().numpy())\n",
    "    x = tf_val[key] == pt_val[key].cpu()\n",
    "    assert(tf.reduce_all(x).numpy() == True)\n",
    "\n",
    "\n",
    "\n",
    "pt_linear = torch.nn.Linear(4, 4)\n",
    "pt_linear.weight = torch.nn.Parameter(pt_val['weight'])\n",
    "pt_linear.bias = torch.nn.Parameter(pt_val['bias'])\n",
    "\n",
    "my_linear = Dense_v2(4, 4, tf.transpose(tf_val['weight']), tf_val['bias'])\n",
    "\n",
    "print(pt_linear(pt_val['input']))\n",
    "print(my_linear(tf_val['input']))\n",
    "print(\"\\n\", tf.reduce_all(pt_linear(pt_val['input']).cpu().detach().numpy() == my_linear(tf_val['input'])))"
   ]
  },
  {
   "cell_type": "code",
   "execution_count": null,
   "metadata": {},
   "outputs": [],
   "source": []
  },
  {
   "cell_type": "code",
   "execution_count": null,
   "metadata": {},
   "outputs": [],
   "source": []
  }
 ],
 "metadata": {
  "kernelspec": {
   "display_name": "Python 3",
   "language": "python",
   "name": "python3"
  },
  "language_info": {
   "codemirror_mode": {
    "name": "ipython",
    "version": 3
   },
   "file_extension": ".py",
   "mimetype": "text/x-python",
   "name": "python",
   "nbconvert_exporter": "python",
   "pygments_lexer": "ipython3",
   "version": "3.8.10"
  }
 },
 "nbformat": 4,
 "nbformat_minor": 2
}
