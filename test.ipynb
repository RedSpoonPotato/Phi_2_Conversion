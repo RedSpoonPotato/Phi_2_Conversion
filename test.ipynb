{
 "cells": [
  {
   "cell_type": "code",
   "execution_count": 2,
   "metadata": {},
   "outputs": [
    {
     "name": "stderr",
     "output_type": "stream",
     "text": [
      "2024-02-09 13:36:03.140647: I tensorflow/tsl/cuda/cudart_stub.cc:28] Could not find cuda drivers on your machine, GPU will not be used.\n",
      "2024-02-09 13:36:03.370109: I tensorflow/tsl/cuda/cudart_stub.cc:28] Could not find cuda drivers on your machine, GPU will not be used.\n",
      "2024-02-09 13:36:03.374094: I tensorflow/core/platform/cpu_feature_guard.cc:182] This TensorFlow binary is optimized to use available CPU instructions in performance-critical operations.\n",
      "To enable the following instructions: AVX2 FMA, in other operations, rebuild TensorFlow with the appropriate compiler flags.\n",
      "2024-02-09 13:36:05.128267: W tensorflow/compiler/tf2tensorrt/utils/py_utils.cc:38] TF-TRT Warning: Could not find TensorRT\n"
     ]
    }
   ],
   "source": [
    "import tensorflow as tf\n",
    "import torch\n",
    "import numpy as np"
   ]
  },
  {
   "cell_type": "code",
   "execution_count": 12,
   "metadata": {},
   "outputs": [
    {
     "name": "stdout",
     "output_type": "stream",
     "text": [
      "tf.Tensor(\n",
      "[[0.64257812500000000000 0.24609375000000000000 0.81933593750000000000\n",
      "  0.70703125000000000000]\n",
      " [0.41406250000000000000 0.08886718750000000000 0.96582031250000000000\n",
      "  0.06054687500000000000]\n",
      " [0.32812500000000000000 0.42480468750000000000 0.78125000000000000000\n",
      "  0.43359375000000000000]], shape=(3, 4), dtype=float16)\n",
      "tensor([[0.64257812500000000000, 0.24609375000000000000, 0.81933593750000000000,\n",
      "         0.70703125000000000000],\n",
      "        [0.41406250000000000000, 0.08886718750000000000, 0.96582031250000000000,\n",
      "         0.06054687500000000000],\n",
      "        [0.32812500000000000000, 0.42480468750000000000, 0.78125000000000000000,\n",
      "         0.43359375000000000000]], dtype=torch.float16)\n",
      "tf.Tensor(\n",
      "[[ True  True  True  True]\n",
      " [ True  True  True  True]\n",
      " [ True  True  True  True]], shape=(3, 4), dtype=bool)\n"
     ]
    }
   ],
   "source": [
    "np.set_printoptions(formatter={'float': lambda x: \"{0:0.20f}\".format(x)})\n",
    "torch.set_printoptions(precision=20)\n",
    "# x = tf.constant([2.5], dtype=tf.bfloat16)\n",
    "x = tf.random.uniform([3,4], dtype=tf.float16)\n",
    "x1 = torch.tensor(tf.cast(x, tf.float32).numpy())\n",
    "x1 = x1.to(dtype=torch.float16)\n",
    "print(x)\n",
    "print(x1)\n",
    "print(x == x1)"
   ]
  },
  {
   "cell_type": "code",
   "execution_count": 4,
   "metadata": {},
   "outputs": [
    {
     "name": "stdout",
     "output_type": "stream",
     "text": [
      "[[0.359375 0.1484375 0.9296875 0.9765625]\n",
      " [0.609375 0.984375 0.5546875 0.0859375]\n",
      " [0.2734375 0.59375 0.84375 0.859375]]\n"
     ]
    }
   ],
   "source": [
    "tf.print(x)"
   ]
  },
  {
   "cell_type": "code",
   "execution_count": null,
   "metadata": {},
   "outputs": [],
   "source": [
    "# class LayerNorm(tf.Module):\n",
    "#     def __init__(self, weights, biases, eps=1e-12, name=None):\n",
    "#         super().__init__(name)\n",
    "#         # w's and b's are both 1d (768)\n",
    "#         self.weights = weights\n",
    "#         self.biases = biases\n",
    "#         self.eps = eps\n",
    "#     # @tf.function\n",
    "#     def __call__(self, input):\n",
    "#         self.weights = tf.cast(self.weights, dtype=tf.float32)\n",
    "#         self.biases = tf.cast(self.biases, dtype=tf.float32)\n",
    "#         # input is 2d (batch of 1)\n",
    "#         mean = tf.math.reduce_mean(input, axis=-1, keepdims=True) # (512, 1) i think\n",
    "#         std = tf.math.reduce_std(input, axis=-1, keepdims=True)\n",
    "#         mean = tf.cast(mean, dtype=tf.float32)\n",
    "#         std = tf.cast(std, dtype=tf.float32)\n",
    "#         input = tf.cast(input, dtype=tf.float32)\n",
    "#         return tf.cast(self.weights * (input - mean) / (std + self.eps) + self.biases, dtype=tf.float16)"
   ]
  },
  {
   "cell_type": "code",
   "execution_count": 23,
   "metadata": {},
   "outputs": [],
   "source": [
    "class LayerNorm(tf.Module):\n",
    "    def __init__(self, weights, biases, eps=1e-12, name=None):\n",
    "        super().__init__(name)\n",
    "        # w's and b's are both 1d (768)\n",
    "        self.weights = weights\n",
    "        self.biases = biases\n",
    "        self.eps = eps\n",
    "    # @tf.function\n",
    "    def __call__(self, input):\n",
    "        # eps = tf.constant(self.eps, dtype=tf.float16)\n",
    "        # input is 2d (batch of 1)\n",
    "        mean = tf.math.reduce_mean(input, axis=-1, keepdims=True) # (512, 1) i think\n",
    "        std = tf.math.reduce_std(input, axis=-1, keepdims=True)\n",
    "        x = std + self.eps\n",
    "        # x = 1 / x # is there another way to do this?\n",
    "        x = tf.math.reciprocal(x)\n",
    "        return self.weights * (input - mean) * x + self.biases\n",
    "\n",
    "        # return self.weights * (input - mean) / (std + self.eps) + self.biases\n",
    "    \n",
    "class Dense_v2(tf.Module):\n",
    "    def __init__(self, in_features:int, out_features:int, weights:tf.Tensor, bias:tf.Tensor=None, name=None):\n",
    "        super().__init__(name=name)\n",
    "        self.in_features = in_features\n",
    "        self.out_features = out_features\n",
    "        self.w = tf.reshape(weights, (in_features, out_features))\n",
    "        if bias is None:\n",
    "            self.b = tf.zeros([1, out_features])\n",
    "        else:\n",
    "            self.b = tf.reshape(bias, (1, out_features))\n",
    "    # @tf.function\n",
    "    def __call__(self, x:tf.Tensor):\n",
    "        out = tf.matmul(x, self.w)\n",
    "        return out + self.b"
   ]
  },
  {
   "cell_type": "code",
   "execution_count": 3,
   "metadata": {},
   "outputs": [],
   "source": [
    "np.set_printoptions(formatter={'float': lambda x: \"{0:0.20f}\".format(x)})\n",
    "torch.set_printoptions(precision=20)"
   ]
  },
  {
   "cell_type": "code",
   "execution_count": 25,
   "metadata": {},
   "outputs": [
    {
     "name": "stdout",
     "output_type": "stream",
     "text": [
      "tensor([ 0.09613458067178726196,  0.66526222229003906250,\n",
      "        -1.26728451251983642578, -1.82534492015838623047]) tf.Tensor(\n",
      "[0.09613458067178726196 0.66526222229003906250 -1.26728451251983642578\n",
      " -1.82534492015838623047], shape=(4,), dtype=float32)\n"
     ]
    }
   ],
   "source": [
    "torch.set_default_device(\"cpu\")\n",
    "dtype = torch.float32 # test with float maybe\n",
    "eps = 1e-5\n",
    "# eps = torch.tensor(eps, dtype=torch.float16)\n",
    "og_weights = torch.randn([4], dtype=dtype)\n",
    "og_bias = torch.randn([4], dtype=dtype)\n",
    "og_input = torch.randn([1, 4], dtype=dtype)\n",
    "tf_weights = tf.constant(og_weights.cpu().numpy())\n",
    "tf_bias = tf.constant(og_bias.cpu().numpy())\n",
    "tf_input = tf.constant(og_input.cpu().numpy())\n",
    "print(og_weights, tf_weights)"
   ]
  },
  {
   "cell_type": "code",
   "execution_count": 160,
   "metadata": {},
   "outputs": [
    {
     "name": "stdout",
     "output_type": "stream",
     "text": [
      "tensor([-0.66259765625000000000,  1.55371093750000000000,\n",
      "        -1.50390625000000000000,  0.98095703125000000000], device='cuda:0',\n",
      "       dtype=torch.float16, grad_fn=<NativeLayerNormBackward0>)\n",
      "tf.Tensor(\n",
      "[-0.66406250000000000000 1.55468750000000000000 -1.50390625000000000000\n",
      " 0.98046875000000000000], shape=(4,), dtype=float16)\n"
     ]
    }
   ],
   "source": [
    "torch_layer = torch.nn.LayerNorm(4, eps=eps) # if the \n",
    "torch_layer.weight = torch.nn.Parameter(og_weights)\n",
    "torch_layer.bias = torch.nn.Parameter(og_bias)\n",
    "\n",
    "my_layer = LayerNorm(tf_weights, tf_bias, eps=eps)\n",
    "\n",
    "# tf.keras.backend.set_floatx('float64')\n",
    "# gamma = tf.constant_initializer(tf_weights.numpy())\n",
    "# beta = tf.constant_initializer(tf_bias.numpy())\n",
    "# keras_layer = tf.keras.layers.LayerNormalization(axis=-1, epsilon=eps, gamma_initializer=gamma, beta_initializer=beta)\n",
    "# print(keras_layer(tf_input))\n",
    "\n",
    "\n",
    "print(torch_layer(og_input))\n",
    "# print(torch.nn.functional.layer_norm(og_input, [4], og_weights, og_bias, eps))\n",
    "print(my_layer(tf_input))\n",
    "\n",
    "\n",
    "\n",
    "# dont forget to run as keras\n",
    "# the torch LN might be internally casting as float32"
   ]
  },
  {
   "cell_type": "code",
   "execution_count": 38,
   "metadata": {},
   "outputs": [
    {
     "ename": "RuntimeError",
     "evalue": "The NVIDIA driver on your system is too old (found version 11070). Please update your GPU driver by downloading and installing a new version from the URL: http://www.nvidia.com/Download/index.aspx Alternatively, go to: https://pytorch.org to install a PyTorch version that has been compiled with your version of the CUDA driver.",
     "output_type": "error",
     "traceback": [
      "\u001b[0;31m---------------------------------------------------------------------------\u001b[0m",
      "\u001b[0;31mRuntimeError\u001b[0m                              Traceback (most recent call last)",
      "Cell \u001b[0;32mIn[38], line 6\u001b[0m\n\u001b[1;32m      2\u001b[0m torch\u001b[38;5;241m.\u001b[39mset_default_device(\u001b[38;5;124m\"\u001b[39m\u001b[38;5;124mcuda\u001b[39m\u001b[38;5;124m\"\u001b[39m)\n\u001b[1;32m      3\u001b[0m dtype\u001b[38;5;241m=\u001b[39mtorch\u001b[38;5;241m.\u001b[39mfloat32\n\u001b[1;32m      5\u001b[0m pt_val \u001b[38;5;241m=\u001b[39m {\n\u001b[0;32m----> 6\u001b[0m     \u001b[38;5;124m'\u001b[39m\u001b[38;5;124mweight\u001b[39m\u001b[38;5;124m'\u001b[39m:   \u001b[43mtorch\u001b[49m\u001b[38;5;241;43m.\u001b[39;49m\u001b[43mrandn\u001b[49m\u001b[43m(\u001b[49m\u001b[43m[\u001b[49m\u001b[38;5;241;43m4\u001b[39;49m\u001b[43m,\u001b[49m\u001b[38;5;241;43m4\u001b[39;49m\u001b[43m]\u001b[49m\u001b[43m,\u001b[49m\u001b[43m \u001b[49m\u001b[43mdtype\u001b[49m\u001b[38;5;241;43m=\u001b[39;49m\u001b[43mdtype\u001b[49m\u001b[43m)\u001b[49m,\n\u001b[1;32m      7\u001b[0m     \u001b[38;5;124m'\u001b[39m\u001b[38;5;124mbias\u001b[39m\u001b[38;5;124m'\u001b[39m:     torch\u001b[38;5;241m.\u001b[39mrandn([\u001b[38;5;241m4\u001b[39m], dtype\u001b[38;5;241m=\u001b[39mdtype),\n\u001b[1;32m      8\u001b[0m     \u001b[38;5;124m'\u001b[39m\u001b[38;5;124minput\u001b[39m\u001b[38;5;124m'\u001b[39m:    torch\u001b[38;5;241m.\u001b[39mrandn([\u001b[38;5;241m1\u001b[39m, \u001b[38;5;241m4\u001b[39m], dtype\u001b[38;5;241m=\u001b[39mdtype)\n\u001b[1;32m      9\u001b[0m }\n\u001b[1;32m     11\u001b[0m tf_val \u001b[38;5;241m=\u001b[39m {}\n\u001b[1;32m     12\u001b[0m \u001b[38;5;28;01mfor\u001b[39;00m key \u001b[38;5;129;01min\u001b[39;00m pt_val:\n",
      "File \u001b[0;32m~/TF/3.8_env/lib/python3.8/site-packages/torch/utils/_device.py:77\u001b[0m, in \u001b[0;36mDeviceContext.__torch_function__\u001b[0;34m(self, func, types, args, kwargs)\u001b[0m\n\u001b[1;32m     75\u001b[0m \u001b[38;5;28;01mif\u001b[39;00m func \u001b[38;5;129;01min\u001b[39;00m _device_constructors() \u001b[38;5;129;01mand\u001b[39;00m kwargs\u001b[38;5;241m.\u001b[39mget(\u001b[38;5;124m'\u001b[39m\u001b[38;5;124mdevice\u001b[39m\u001b[38;5;124m'\u001b[39m) \u001b[38;5;129;01mis\u001b[39;00m \u001b[38;5;28;01mNone\u001b[39;00m:\n\u001b[1;32m     76\u001b[0m     kwargs[\u001b[38;5;124m'\u001b[39m\u001b[38;5;124mdevice\u001b[39m\u001b[38;5;124m'\u001b[39m] \u001b[38;5;241m=\u001b[39m \u001b[38;5;28mself\u001b[39m\u001b[38;5;241m.\u001b[39mdevice\n\u001b[0;32m---> 77\u001b[0m \u001b[38;5;28;01mreturn\u001b[39;00m \u001b[43mfunc\u001b[49m\u001b[43m(\u001b[49m\u001b[38;5;241;43m*\u001b[39;49m\u001b[43margs\u001b[49m\u001b[43m,\u001b[49m\u001b[43m \u001b[49m\u001b[38;5;241;43m*\u001b[39;49m\u001b[38;5;241;43m*\u001b[39;49m\u001b[43mkwargs\u001b[49m\u001b[43m)\u001b[49m\n",
      "File \u001b[0;32m~/TF/3.8_env/lib/python3.8/site-packages/torch/cuda/__init__.py:298\u001b[0m, in \u001b[0;36m_lazy_init\u001b[0;34m()\u001b[0m\n\u001b[1;32m    296\u001b[0m \u001b[38;5;28;01mif\u001b[39;00m \u001b[38;5;124m\"\u001b[39m\u001b[38;5;124mCUDA_MODULE_LOADING\u001b[39m\u001b[38;5;124m\"\u001b[39m \u001b[38;5;129;01mnot\u001b[39;00m \u001b[38;5;129;01min\u001b[39;00m os\u001b[38;5;241m.\u001b[39menviron:\n\u001b[1;32m    297\u001b[0m     os\u001b[38;5;241m.\u001b[39menviron[\u001b[38;5;124m\"\u001b[39m\u001b[38;5;124mCUDA_MODULE_LOADING\u001b[39m\u001b[38;5;124m\"\u001b[39m] \u001b[38;5;241m=\u001b[39m \u001b[38;5;124m\"\u001b[39m\u001b[38;5;124mLAZY\u001b[39m\u001b[38;5;124m\"\u001b[39m\n\u001b[0;32m--> 298\u001b[0m \u001b[43mtorch\u001b[49m\u001b[38;5;241;43m.\u001b[39;49m\u001b[43m_C\u001b[49m\u001b[38;5;241;43m.\u001b[39;49m\u001b[43m_cuda_init\u001b[49m\u001b[43m(\u001b[49m\u001b[43m)\u001b[49m\n\u001b[1;32m    299\u001b[0m \u001b[38;5;66;03m# Some of the queued calls may reentrantly call _lazy_init();\u001b[39;00m\n\u001b[1;32m    300\u001b[0m \u001b[38;5;66;03m# we need to just return without initializing in that case.\u001b[39;00m\n\u001b[1;32m    301\u001b[0m \u001b[38;5;66;03m# However, we must not let any *other* threads in!\u001b[39;00m\n\u001b[1;32m    302\u001b[0m _tls\u001b[38;5;241m.\u001b[39mis_initializing \u001b[38;5;241m=\u001b[39m \u001b[38;5;28;01mTrue\u001b[39;00m\n",
      "\u001b[0;31mRuntimeError\u001b[0m: The NVIDIA driver on your system is too old (found version 11070). Please update your GPU driver by downloading and installing a new version from the URL: http://www.nvidia.com/Download/index.aspx Alternatively, go to: https://pytorch.org to install a PyTorch version that has been compiled with your version of the CUDA driver."
     ]
    }
   ],
   "source": [
    "# testing linear layers\n",
    "torch.set_default_device(\"cuda\")\n",
    "dtype=torch.float32\n",
    "\n",
    "pt_val = {\n",
    "    'weight':   torch.randn([4,4], dtype=dtype),\n",
    "    'bias':     torch.randn([4], dtype=dtype),\n",
    "    'input':    torch.randn([1, 4], dtype=dtype)\n",
    "}\n",
    "\n",
    "tf_val = {}\n",
    "for key in pt_val:\n",
    "    tf_val[key] = tf.constant(pt_val[key].cpu().numpy())\n",
    "    x = tf_val[key] == pt_val[key]\n",
    "    assert(tf.reduce_all(x).numpy() == True)\n",
    "\n",
    "\n",
    "\n",
    "pt_linear = torch.nn.Linear(4, 4)\n",
    "pt_linear.weight = torch.nn.Parameter(pt_val['weight'])\n",
    "pt_linear.bias = torch.nn.Parameter(pt_val['bias'])\n",
    "\n",
    "my_linear = Dense_v2(4, 4, tf.transpose(tf_val['weight']), tf_val['bias'])\n",
    "\n",
    "print(pt_linear(pt_val['input']))\n",
    "print(my_linear(tf_val['input']))\n",
    "print(\"\\n\", tf.reduce_all(pt_linear(pt_val['input']).detach().numpy() == my_linear(tf_val['input'])))"
   ]
  },
  {
   "cell_type": "code",
   "execution_count": null,
   "metadata": {},
   "outputs": [],
   "source": []
  },
  {
   "cell_type": "code",
   "execution_count": null,
   "metadata": {},
   "outputs": [],
   "source": []
  }
 ],
 "metadata": {
  "kernelspec": {
   "display_name": "Python 3",
   "language": "python",
   "name": "python3"
  },
  "language_info": {
   "codemirror_mode": {
    "name": "ipython",
    "version": 3
   },
   "file_extension": ".py",
   "mimetype": "text/x-python",
   "name": "python",
   "nbconvert_exporter": "python",
   "pygments_lexer": "ipython3",
   "version": "3.8.10"
  }
 },
 "nbformat": 4,
 "nbformat_minor": 2
}
