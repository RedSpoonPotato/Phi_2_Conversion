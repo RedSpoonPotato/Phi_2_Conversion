{
 "cells": [
  {
   "cell_type": "code",
   "execution_count": 1,
   "metadata": {},
   "outputs": [
    {
     "name": "stderr",
     "output_type": "stream",
     "text": [
      "2024-02-09 10:14:12.722666: I tensorflow/tsl/cuda/cudart_stub.cc:28] Could not find cuda drivers on your machine, GPU will not be used.\n",
      "2024-02-09 10:14:13.519172: I tensorflow/tsl/cuda/cudart_stub.cc:28] Could not find cuda drivers on your machine, GPU will not be used.\n",
      "2024-02-09 10:14:13.521877: I tensorflow/core/platform/cpu_feature_guard.cc:182] This TensorFlow binary is optimized to use available CPU instructions in performance-critical operations.\n",
      "To enable the following instructions: AVX2 FMA, in other operations, rebuild TensorFlow with the appropriate compiler flags.\n",
      "2024-02-09 10:14:15.167327: W tensorflow/compiler/tf2tensorrt/utils/py_utils.cc:38] TF-TRT Warning: Could not find TensorRT\n"
     ]
    }
   ],
   "source": [
    "import tensorflow as tf\n",
    "import torch\n",
    "import numpy as np"
   ]
  },
  {
   "cell_type": "code",
   "execution_count": 22,
   "metadata": {},
   "outputs": [
    {
     "name": "stdout",
     "output_type": "stream",
     "text": [
      "tf.Tensor(\n",
      "[[0.335938 0.992188 0.742188 0.960938]\n",
      " [0.507812 0.546875 0.804688 0.742188]\n",
      " [0.476562 0.78125 0.53125 0.320312]], shape=(3, 4), dtype=bfloat16)\n",
      "tensor([[0.33593750000000000000, 0.99218750000000000000, 0.74218750000000000000,\n",
      "         0.96093750000000000000],\n",
      "        [0.50781250000000000000, 0.54687500000000000000, 0.80468750000000000000,\n",
      "         0.74218750000000000000],\n",
      "        [0.47656250000000000000, 0.78125000000000000000, 0.53125000000000000000,\n",
      "         0.32031250000000000000]], dtype=torch.bfloat16)\n"
     ]
    }
   ],
   "source": [
    "np.set_printoptions(formatter={'float': lambda x: \"{0:0.20f}\".format(x)})\n",
    "torch.set_printoptions(precision=20)\n",
    "# x = tf.constant([2.5], dtype=tf.bfloat16)\n",
    "x = tf.random.uniform([3,4], dtype=tf.bfloat16)\n",
    "x1 = torch.tensor(tf.cast(x, tf.float32).numpy())\n",
    "x1 = x1.to(dtype=torch.bfloat16)\n",
    "print(x)\n",
    "print(x1)"
   ]
  },
  {
   "cell_type": "code",
   "execution_count": null,
   "metadata": {},
   "outputs": [],
   "source": [
    "# class LayerNorm(tf.Module):\n",
    "#     def __init__(self, weights, biases, eps=1e-12, name=None):\n",
    "#         super().__init__(name)\n",
    "#         # w's and b's are both 1d (768)\n",
    "#         self.weights = weights\n",
    "#         self.biases = biases\n",
    "#         self.eps = eps\n",
    "#     # @tf.function\n",
    "#     def __call__(self, input):\n",
    "#         self.weights = tf.cast(self.weights, dtype=tf.float32)\n",
    "#         self.biases = tf.cast(self.biases, dtype=tf.float32)\n",
    "#         # input is 2d (batch of 1)\n",
    "#         mean = tf.math.reduce_mean(input, axis=-1, keepdims=True) # (512, 1) i think\n",
    "#         std = tf.math.reduce_std(input, axis=-1, keepdims=True)\n",
    "#         mean = tf.cast(mean, dtype=tf.float32)\n",
    "#         std = tf.cast(std, dtype=tf.float32)\n",
    "#         input = tf.cast(input, dtype=tf.float32)\n",
    "#         return tf.cast(self.weights * (input - mean) / (std + self.eps) + self.biases, dtype=tf.float16)"
   ]
  },
  {
   "cell_type": "code",
   "execution_count": 155,
   "metadata": {},
   "outputs": [],
   "source": [
    "class LayerNorm(tf.Module):\n",
    "    def __init__(self, weights, biases, eps=1e-12, name=None):\n",
    "        super().__init__(name)\n",
    "        # w's and b's are both 1d (768)\n",
    "        self.weights = weights\n",
    "        self.biases = biases\n",
    "        self.eps = eps\n",
    "    # @tf.function\n",
    "    def __call__(self, input):\n",
    "        # eps = tf.constant(self.eps, dtype=tf.float16)\n",
    "        # input is 2d (batch of 1)\n",
    "        mean = tf.math.reduce_mean(input, axis=-1, keepdims=True) # (512, 1) i think\n",
    "        std = tf.math.reduce_std(input, axis=-1, keepdims=True)\n",
    "        x = std + self.eps\n",
    "        # x = 1 / x # is there another way to do this?\n",
    "        x = tf.math.reciprocal(x)\n",
    "        return self.weights * (input - mean) * x + self.biases\n",
    "\n",
    "        # return self.weights * (input - mean) / (std + self.eps) + self.biases\n",
    "    \n",
    "class Dense_v2(tf.Module):\n",
    "    def __init__(self, in_features:int, out_features:int, weights:tf.Tensor, bias:tf.Tensor=None, name=None):\n",
    "        super().__init__(name=name)\n",
    "        self.in_features = in_features\n",
    "        self.out_features = out_features\n",
    "        self.w = tf.reshape(weights, (in_features, out_features))\n",
    "        if bias is None:\n",
    "            self.b = tf.zeros([1, out_features])\n",
    "        else:\n",
    "            self.b = tf.reshape(bias, (1, out_features))\n",
    "    # @tf.function\n",
    "    def __call__(self, x:tf.Tensor):\n",
    "        out = tf.matmul(x, self.w)\n",
    "        return out + self.b"
   ]
  },
  {
   "cell_type": "code",
   "execution_count": 3,
   "metadata": {},
   "outputs": [],
   "source": [
    "np.set_printoptions(formatter={'float': lambda x: \"{0:0.20f}\".format(x)})\n",
    "torch.set_printoptions(precision=20)"
   ]
  },
  {
   "cell_type": "code",
   "execution_count": 153,
   "metadata": {},
   "outputs": [
    {
     "name": "stdout",
     "output_type": "stream",
     "text": [
      "tensor([ 0.68212890625000000000, -0.33520507812500000000,\n",
      "        -0.66308593750000000000,  0.19763183593750000000], device='cuda:0',\n",
      "       dtype=torch.float16) tf.Tensor(\n",
      "[0.68212890625000000000 -0.33520507812500000000 -0.66308593750000000000\n",
      " 0.19763183593750000000], shape=(4,), dtype=float16)\n"
     ]
    }
   ],
   "source": [
    "torch.set_default_device(\"cuda\")\n",
    "dtype = torch.float16 # test with float maybe\n",
    "eps = 1e-5\n",
    "# eps = torch.tensor(eps, dtype=torch.float16)\n",
    "og_weights = torch.randn([4], dtype=torch.float)\n",
    "og_bias = torch.randn([4], dtype=torch.float)\n",
    "og_input = torch.randn([4], dtype=torch.float)\n",
    "tf_weights = tf.constant(og_weights.cpu().numpy())\n",
    "tf_bias = tf.constant(og_bias.cpu().numpy())\n",
    "tf_input = tf.constant(og_input.cpu().numpy())\n",
    "print(og_weights, tf_weights)"
   ]
  },
  {
   "cell_type": "code",
   "execution_count": 160,
   "metadata": {},
   "outputs": [
    {
     "name": "stdout",
     "output_type": "stream",
     "text": [
      "tensor([-0.66259765625000000000,  1.55371093750000000000,\n",
      "        -1.50390625000000000000,  0.98095703125000000000], device='cuda:0',\n",
      "       dtype=torch.float16, grad_fn=<NativeLayerNormBackward0>)\n",
      "tf.Tensor(\n",
      "[-0.66406250000000000000 1.55468750000000000000 -1.50390625000000000000\n",
      " 0.98046875000000000000], shape=(4,), dtype=float16)\n"
     ]
    }
   ],
   "source": [
    "torch_layer = torch.nn.LayerNorm(4, eps=eps) # if the \n",
    "torch_layer.weight = torch.nn.Parameter(og_weights)\n",
    "torch_layer.bias = torch.nn.Parameter(og_bias)\n",
    "\n",
    "my_layer = LayerNorm(tf_weights, tf_bias, eps=eps)\n",
    "\n",
    "# tf.keras.backend.set_floatx('float64')\n",
    "# gamma = tf.constant_initializer(tf_weights.numpy())\n",
    "# beta = tf.constant_initializer(tf_bias.numpy())\n",
    "# keras_layer = tf.keras.layers.LayerNormalization(axis=-1, epsilon=eps, gamma_initializer=gamma, beta_initializer=beta)\n",
    "# print(keras_layer(tf_input))\n",
    "\n",
    "\n",
    "print(torch_layer(og_input))\n",
    "# print(torch.nn.functional.layer_norm(og_input, [4], og_weights, og_bias, eps))\n",
    "print(my_layer(tf_input))\n",
    "\n",
    "\n",
    "\n",
    "# dont forget to run as keras\n",
    "# the torch LN might be internally casting as float32"
   ]
  },
  {
   "cell_type": "code",
   "execution_count": null,
   "metadata": {},
   "outputs": [],
   "source": [
    "# testing linear layers\n",
    "weight = torch.randn([4,4], dtype=torch.float16)\n",
    "pt_linear = torch.nn.Linear(4, 4)\n",
    "pt_linear.weight= torch.nn.Parameter(weight.numpy())\n",
    "pt_linear.weight = torch.nn.Parameter(og_bias.numpy())\n",
    "print(og_bias, og_bias.numpy())\n",
    "\n",
    "pt_linear(og_input)\n",
    "\n"
   ]
  }
 ],
 "metadata": {
  "kernelspec": {
   "display_name": "Python 3",
   "language": "python",
   "name": "python3"
  },
  "language_info": {
   "codemirror_mode": {
    "name": "ipython",
    "version": 3
   },
   "file_extension": ".py",
   "mimetype": "text/x-python",
   "name": "python",
   "nbconvert_exporter": "python",
   "pygments_lexer": "ipython3",
   "version": "3.8.10"
  }
 },
 "nbformat": 4,
 "nbformat_minor": 2
}
